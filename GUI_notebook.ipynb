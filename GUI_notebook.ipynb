{
 "cells": [
  {
   "cell_type": "markdown",
   "metadata": {},
   "source": [
    "# Test GUI "
   ]
  },
  {
   "cell_type": "code",
   "execution_count": 1,
   "metadata": {
    "ExecuteTime": {
     "end_time": "2020-02-12T17:32:14.793572Z",
     "start_time": "2020-02-12T17:32:14.648126Z"
    }
   },
   "outputs": [],
   "source": [
    "import pyqtgraph as pg\n",
    "from pyqtgraph import QtCore, QtGui\n"
   ]
  },
  {
   "cell_type": "code",
   "execution_count": 28,
   "metadata": {
    "ExecuteTime": {
     "end_time": "2020-02-12T18:06:49.567767Z",
     "start_time": "2020-02-12T18:06:49.557330Z"
    },
    "code_folding": [
     56
    ]
   },
   "outputs": [],
   "source": [
    "class CustomiseDeeItems(pg.GraphicsObject):\n",
    "    ## Create a subclass of GraphicsObject.\n",
    "    ## The only required methods are paint() and boundingRect() \n",
    "    ## (see QGraphicsItem documentation)\n",
    "    \n",
    "    def __init__(self, data):\n",
    "        pg.GraphicsObject.__init__(self)\n",
    "        self.data = data  ## data must have fields: time, open, close, min, max\n",
    "        self.generatePicture()\n",
    "#         for rect in data: \n",
    "#             self.drawrect(rect)\n",
    "\n",
    "    def GetAngle (s): ###TODO\n",
    "        if s == 1:\n",
    "            x = 30\n",
    "            module_angle= x\n",
    "        else:\n",
    "            module_angle= 180 - x\n",
    "        return\n",
    "\n",
    "    def generatePicture(self):\n",
    "        ## pre-computing a QPicture object allows paint() to run much more quickly, \n",
    "        ## rather than re-drawing the shapes every time.\n",
    "        self.picture = QtGui.QPicture()\n",
    "        p = QtGui.QPainter(self.picture)\n",
    "        p.setPen(pg.mkPen('w'))\n",
    "        #p.TextItem('PS Module',anchor=(0.5,0))\n",
    "\n",
    "        \n",
    "        # ___ more options for style ___\n",
    "        #   mkPen('y', width=3, style=QtCore.Qt.DashLine)          ## Make a dashed yellow line 2px wide\n",
    "        #   mkPen(0.5)                                             ## solid grey line 1px wide\n",
    "        #   mkPen(color=(200, 200, 255), style=QtCore.Qt.DotLine)  ## Dotted pale-blue line\n",
    "        #module_footprint.setPen(pg.mkPen(0.5)) \n",
    "        \n",
    "        rectangle =  QtCore.QRectF(-20, -5, 40, 25)\n",
    "        p.drawRoundedRect(rectangle, 0., 0.)\n",
    "        \n",
    "\n",
    "        for (xin, yin, w, h , rot, color) in self.data:  # for testing\n",
    "            ## frame node:\n",
    "            ## TODO converted from latex to python\n",
    "            '''\n",
    "            \\\\node[preaction={fill=\\pwrcolour, fill}, align=center, rotate=\\angle, chamfered rectangle,\n",
    "             chamfered rectangle ysep=5mm, module_footprint, frame_pattern, inner sep=0pt, minimum height=130mm] \n",
    "             (framenode) at (\\angle:#2mm) {\\hspace{69.6mm}};\n",
    "            '''\n",
    "            # sensor length:\n",
    "            # pssensorx = 49.2 # mm\n",
    "            # pssensory = 98.7 # mm            \n",
    "\n",
    "            p.translate(xin, yin)\n",
    "            p.rotate(rot)\n",
    "            #p.drawLine(QtCore.QPointF(t, min), QtCore.QPointF(t, max))\n",
    "            p.setBrush(pg.mkBrush(color))    # TODO  set pwr opt colour\n",
    "            rectangle =  QtCore.QRectF(0, 0, w, h)\n",
    "            p.drawRoundedRect(rectangle, 0.05, 0.05)\n",
    "            \n",
    "            p.rotate(-rot)\n",
    "            p.translate(-xin, -yin)\n",
    "            \n",
    "        p.end()\n",
    "\n",
    "    def paint(self, p, *args):\n",
    "        p.drawPicture(0, 0, self.picture)\n",
    "    \n",
    "    def boundingRect(self):\n",
    "        ## boundingRect _must_ indicate the entire area that will be drawn on\n",
    "        ## or else we will get artifacts and possibly crashing.\n",
    "        ## (in this case, QPicture does all the work of computing the bouning rect for us)\n",
    "        return QtCore.QRectF(self.picture.boundingRect())"
   ]
  },
  {
   "cell_type": "code",
   "execution_count": 29,
   "metadata": {
    "ExecuteTime": {
     "end_time": "2020-02-12T18:06:58.695826Z",
     "start_time": "2020-02-12T18:06:49.865692Z"
    }
   },
   "outputs": [
    {
     "data": {
      "text/plain": [
       "0"
      ]
     },
     "execution_count": 29,
     "metadata": {},
     "output_type": "execute_result"
    }
   ],
   "source": [
    "w = 1.618     # wide\n",
    "h = 1         # height\n",
    "\n",
    "\n",
    "## for test                                                         # colors:   3: green, 1: orange , 0: red, \n",
    "data = [  ## fields are (t, open, close, min, max).       ##CJ new::  ( xin, yin, width, height, color)\n",
    "#     (1., 10, 13, 5, 15),\n",
    "#     (2., 13, 17, 9, 20),\n",
    "    (10,0, w, h, 0,   0),\n",
    "    (8, 0, w, h, 45,  2),\n",
    "    (5, 0, w, h, 180, 3),\n",
    "]\n",
    "\n",
    "datav1 = [\n",
    "        ## fields are :\n",
    "        #Module_DetId, Module_RingL, Module_RingR, Module_phi_deg, OPT_Services_Channel, PWR_Services_Channel, type_/C, surface,    latexformula\n",
    "        (411571240,     1,      259.78, 171,    \"7B\",   \"7A\",   \"PS\",   2),     # \\psmodule{171}{259.78}{411571240}{7B}{7A}\n",
    "        (411571236,     1,      259.78, 153,    \"6B\",   \"5C\",   \"PS\",   1),     # \\psmodule{153}{259.78}{411571236}{6B}{5C}\n",
    "    ]\n",
    "\n",
    "item = CustomiseDeeItems(data)\n",
    "plt = pg.plot()\n",
    "plt.showGrid(x=True, y=True)\n",
    "plt.addItem(item)\n",
    "plt.setWindowTitle('pyqtgraph example: customGraphicsItem')\n",
    "\n",
    "\n",
    "QtGui.QApplication.instance().exec()"
   ]
  },
  {
   "cell_type": "code",
   "execution_count": null,
   "metadata": {
    "ExecuteTime": {
     "end_time": "2020-02-12T16:25:58.073231Z",
     "start_time": "2020-02-12T16:25:58.056137Z"
    }
   },
   "outputs": [],
   "source": []
  }
 ],
 "metadata": {
  "kernelspec": {
   "display_name": "Python 3",
   "language": "python",
   "name": "python3"
  },
  "language_info": {
   "codemirror_mode": {
    "name": "ipython",
    "version": 3
   },
   "file_extension": ".py",
   "mimetype": "text/x-python",
   "name": "python",
   "nbconvert_exporter": "python",
   "pygments_lexer": "ipython3",
   "version": "3.7.1"
  },
  "latex_envs": {
   "LaTeX_envs_menu_present": true,
   "autoclose": false,
   "autocomplete": true,
   "bibliofile": "biblio.bib",
   "cite_by": "apalike",
   "current_citInitial": 1,
   "eqLabelWithNumbers": true,
   "eqNumInitial": 1,
   "hotkeys": {
    "equation": "Ctrl-E",
    "itemize": "Ctrl-I"
   },
   "labels_anchors": false,
   "latex_user_defs": false,
   "report_style_numbering": false,
   "user_envs_cfg": false
  }
 },
 "nbformat": 4,
 "nbformat_minor": 2
}
